{
  "cells": [
    {
      "cell_type": "markdown",
      "metadata": {
        "id": "view-in-github",
        "colab_type": "text"
      },
      "source": [
        "<a href=\"https://colab.research.google.com/github/UAPH451551/PH451_551_Sp23/blob/main/Exercises/Statistics_1.ipynb\" target=\"_parent\"><img src=\"https://colab.research.google.com/assets/colab-badge.svg\" alt=\"Open In Colab\"/></a>"
      ]
    },
    {
      "cell_type": "markdown",
      "source": [
        "# Introduction to Statistics\n",
        "\n",
        "Before reading this, please review PythonRefreshers_1 and PythonRefreshers_2"
      ],
      "metadata": {
        "id": "xFE19A0Ua49I"
      },
      "id": "xFE19A0Ua49I"
    },
    {
      "cell_type": "markdown",
      "source": [
        "Before we do anything, let's update the version of matplotlib in colab so that <br>\n",
        "it matches current online documentation. Run the following cell then press the <br>\n",
        "restart button when it appears"
      ],
      "metadata": {
        "id": "G8PTs8bEPo0I"
      },
      "id": "G8PTs8bEPo0I"
    },
    {
      "cell_type": "code",
      "source": [
        "!pip install matplotlib==3.6"
      ],
      "metadata": {
        "colab": {
          "base_uri": "https://localhost:8080/"
        },
        "id": "fue96OluPY95",
        "outputId": "d854ff0b-5ed3-4942-99a9-d92f0a0991db"
      },
      "id": "fue96OluPY95",
      "execution_count": null,
      "outputs": [
        {
          "output_type": "stream",
          "name": "stdout",
          "text": [
            "Looking in indexes: https://pypi.org/simple, https://us-python.pkg.dev/colab-wheels/public/simple/\n",
            "Requirement already satisfied: matplotlib==3.6 in /usr/local/lib/python3.8/dist-packages (3.6.0)\n",
            "Requirement already satisfied: pyparsing>=2.2.1 in /usr/local/lib/python3.8/dist-packages (from matplotlib==3.6) (3.0.9)\n",
            "Requirement already satisfied: contourpy>=1.0.1 in /usr/local/lib/python3.8/dist-packages (from matplotlib==3.6) (1.0.6)\n",
            "Requirement already satisfied: python-dateutil>=2.7 in /usr/local/lib/python3.8/dist-packages (from matplotlib==3.6) (2.8.2)\n",
            "Requirement already satisfied: kiwisolver>=1.0.1 in /usr/local/lib/python3.8/dist-packages (from matplotlib==3.6) (1.4.4)\n",
            "Requirement already satisfied: packaging>=20.0 in /usr/local/lib/python3.8/dist-packages (from matplotlib==3.6) (21.3)\n",
            "Requirement already satisfied: cycler>=0.10 in /usr/local/lib/python3.8/dist-packages (from matplotlib==3.6) (0.11.0)\n",
            "Requirement already satisfied: numpy>=1.19 in /usr/local/lib/python3.8/dist-packages (from matplotlib==3.6) (1.21.6)\n",
            "Requirement already satisfied: pillow>=6.2.0 in /usr/local/lib/python3.8/dist-packages (from matplotlib==3.6) (7.1.2)\n",
            "Requirement already satisfied: fonttools>=4.22.0 in /usr/local/lib/python3.8/dist-packages (from matplotlib==3.6) (4.38.0)\n",
            "Requirement already satisfied: six>=1.5 in /usr/local/lib/python3.8/dist-packages (from python-dateutil>=2.7->matplotlib==3.6) (1.15.0)\n"
          ]
        }
      ]
    },
    {
      "cell_type": "code",
      "execution_count": null,
      "id": "22d05473",
      "metadata": {
        "id": "22d05473"
      },
      "outputs": [],
      "source": [
        "import numpy as np\n",
        "import matplotlib.pyplot as plt"
      ]
    },
    {
      "cell_type": "markdown",
      "source": [
        "## Regression"
      ],
      "metadata": {
        "id": "Xn8l7IzjIgJa"
      },
      "id": "Xn8l7IzjIgJa"
    },
    {
      "cell_type": "markdown",
      "source": [
        "First we'll look at some *metrics* for analyzing regression models. Let's <br>\n",
        "generate some fake data. **We'll call uniform distribution our \"true\" values**. The <br>\n",
        "distribution of this will have random values between 1 and 50 with all numbers <br>\n",
        "in that range having roughly equal likelihood. Next we'll create our <br>\n",
        "**\"predicted\" values** which **will be the true values added to a small random noise**. <br>\n",
        "Here we'll use a random normal distribution for the noise which is centered at <br>\n",
        "+0.5 with a standard deviation of 1. Random normal noise is often described as <br>\n",
        "\"Gaussian\" or \"White\" noise."
      ],
      "metadata": {
        "id": "gtVWOcAozyHk"
      },
      "id": "gtVWOcAozyHk"
    },
    {
      "cell_type": "code",
      "execution_count": null,
      "id": "ae37d40d",
      "metadata": {
        "id": "ae37d40d"
      },
      "outputs": [],
      "source": [
        "true_values = np.random.uniform(low=0, high=50, size=10000)\n",
        "gaussian_noise =  np.random.normal(loc=0.5, scale=1, size=10000)\n",
        "predicted_values = true_values + gaussian_noise"
      ]
    },
    {
      "cell_type": "markdown",
      "source": [
        "Here we visualize what the distributions look like by using **histograms**. This <br> \n",
        "plot will allow us to visually compare what our \"true\" and \"predicted\" values <br> \n",
        "distributions look like. This is generally a reasonable first step in any sort <br> \n",
        "of regression analysis. First we use this np.histogram tool to align the bins <br> \n",
        "from our two distributions. If you're unsure about how many bins to use the <br>\n",
        "general rule is to **use around sqrt(N) bins if you have less than 1000 samples**. <br> \n",
        "**Otherwise, use around 30**, or whatever looks reasonable.\n"
      ],
      "metadata": {
        "id": "4h4QFBZ6LVwd"
      },
      "id": "4h4QFBZ6LVwd"
    },
    {
      "cell_type": "code",
      "execution_count": null,
      "id": "50c5c429",
      "metadata": {
        "id": "50c5c429",
        "outputId": "2bc20184-9e35-410c-baf6-60bde8139b87",
        "colab": {
          "base_uri": "https://localhost:8080/",
          "height": 399
        }
      },
      "outputs": [
        {
          "output_type": "stream",
          "name": "stdout",
          "text": [
            "Our 31 Bin Endpoints:  [-2.7970675  -0.93264585  0.9317758   2.79619746  4.66061911  6.52504076\n",
            "  8.38946241 10.25388406 12.11830572 13.98272737 15.84714902 17.71157067\n",
            " 19.57599232 21.44041397 23.30483563 25.16925728 27.03367893 28.89810058\n",
            " 30.76252223 32.62694389 34.49136554 36.35578719 38.22020884 40.08463049\n",
            " 41.94905215 43.8134738  45.67789545 47.5423171  49.40673875 51.2711604\n",
            " 53.13558206]\n"
          ]
        },
        {
          "output_type": "display_data",
          "data": {
            "text/plain": [
              "<Figure size 432x288 with 1 Axes>"
            ],
            "image/png": "[encoded data removed]"
          },
          "metadata": {
            "needs_background": "light"
          }
        }
      ],
      "source": [
        "bins = np.histogram(np.hstack((predicted_values, true_values)), bins=30)[1]\n",
        "print('Our 31 Bin Endpoints: ', bins)\n",
        "plt.title('Histogram of Counts vs Value') # Add a plot title\n",
        "# hist(data, histogram appearance type, legend label, color, bin number or bins)\n",
        "plt.hist(predicted_values, histtype='step', label='\"Predicted\" Values',\n",
        "         color='b', bins=bins)\n",
        "plt.hist(true_values, histtype='step', label='\"True\" Values', color='r', \n",
        "         bins=bins)\n",
        "plt.ylabel('Counts') # Add axis labels\n",
        "plt.xlabel('Value')\n",
        "plt.legend() # Add a legend\n",
        "plt.show() # Show the plot in our current cell"
      ]
    },
    {
      "cell_type": "markdown",
      "source": [
        "A basic analysis when comparing distributions of two sets is to do some form of <br>\n",
        "2-sample goodness of fit test. One example of this is the **2 sample** \n",
        "<br>\n",
        "**Kolmogorov-Smirnov** test for goodness of fit also referred to as the **2-sample** \n",
        "<br>\n",
        "**KS-test**. The scientific python library, **scipy**, contains an implementation of \n",
        "<br>\n",
        "this test where the default method of comparison is to do a two-sided \n",
        "<br>\n",
        "comparison comparing the maximum absolute difference between the two \n",
        "<br>\n",
        "distributions.\n",
        "\n"
      ],
      "metadata": {
        "id": "TygvX-AmL8QQ"
      },
      "id": "TygvX-AmL8QQ"
    },
    {
      "cell_type": "code",
      "execution_count": null,
      "id": "4de2153c",
      "metadata": {
        "id": "4de2153c",
        "outputId": "ab52850a-4dc7-4bed-95ce-6ab506009bd1",
        "colab": {
          "base_uri": "https://localhost:8080/"
        }
      },
      "outputs": [
        {
          "output_type": "stream",
          "name": "stdout",
          "text": [
            "KS test statistic:  0.0141\n",
            "p-value:  0.27321683386131995\n"
          ]
        }
      ],
      "source": [
        "from scipy.stats import ks_2samp\n",
        "\n",
        "ks_statistic, p_value = ks_2samp(true_values, predicted_values)\n",
        "print('KS test statistic: ', ks_statistic)\n",
        "print('p-value: ', p_value)"
      ]
    },
    {
      "cell_type": "markdown",
      "source": [
        "If your p-value is **lower than 0.05** (5%), then your two distributions lie<br>\n",
        "outside of the 95% confidence interval from one another. Here you should see a<br>\n",
        "p-value around 0.25 (25%) which indicates that the two datasets lie within the<br>\n",
        "95% confidence interval of one another. That means you are unable to reject the<br>\n",
        "hypothesis that these are from the same data set within a 95% degree of<br>\n",
        "confidence. In general, your **p-value and KS test statistic are inversely<br>\n",
        "related** but the p-value has a more explicit definition and what you should<br>\n",
        "refer to."
      ],
      "metadata": {
        "id": "0P6BzZDOMKms"
      },
      "id": "0P6BzZDOMKms"
    },
    {
      "cell_type": "code",
      "source": [
        "print('\\nComparing true and true')\n",
        "ks_statistic, p_value = ks_2samp(true_values, true_values)\n",
        "print('KS test statistic: ', ks_statistic)\n",
        "print('p-value: ', p_value)\n",
        "print('\\nComparing pred and pred')\n",
        "ks_statistic, p_value = ks_2samp(predicted_values, predicted_values)\n",
        "print('KS test statistic: ', ks_statistic)\n",
        "print('p-value: ', p_value)"
      ],
      "metadata": {
        "colab": {
          "base_uri": "https://localhost:8080/"
        },
        "id": "aoVLvwjfMNKP",
        "outputId": "eb435c12-1ec3-47eb-e139-8f42660fa30c"
      },
      "id": "aoVLvwjfMNKP",
      "execution_count": null,
      "outputs": [
        {
          "output_type": "stream",
          "name": "stdout",
          "text": [
            "\n",
            "Comparing true and true\n",
            "KS test statistic:  0.0\n",
            "p-value:  1.0\n",
            "\n",
            "Comparing pred and pred\n",
            "KS test statistic:  0.0\n",
            "p-value:  1.0\n"
          ]
        }
      ]
    },
    {
      "cell_type": "markdown",
      "source": [
        "When comparing regression models or analyzing correlations, it's helpful to <br>\n",
        "**plot the predicted values against the truevalues** in a correlation scatter plot.<br>\n",
        "If your data is related, it will line up nicely along some diagonal. We'll also<br>\n",
        "make the scatter plot points somewhat transparent to see the relatively low<br>\n",
        "density of points far from the line. Notice how the data fits fairly well along<br>\n",
        "the line but at a slight off-angle. That angle is an indicator of some *bias* in<br>\n",
        "the data.\n",
        "\n"
      ],
      "metadata": {
        "id": "rm71RytQP-63"
      },
      "id": "rm71RytQP-63"
    },
    {
      "cell_type": "code",
      "execution_count": null,
      "id": "5d707f04",
      "metadata": {
        "id": "5d707f04",
        "outputId": "35713aa7-3edc-43d2-e969-a103eec4c80a",
        "colab": {
          "base_uri": "https://localhost:8080/",
          "height": 416
        }
      },
      "outputs": [
        {
          "output_type": "display_data",
          "data": {
            "text/plain": [
              "<Figure size 432x432 with 1 Axes>"
            ],
            "image/png": "[encoded data removed]"
          },
          "metadata": {
            "needs_background": "light"
          }
        }
      ],
      "source": [
        "# figure, axis plot formatting for matplotlib.pyplot\n",
        "fig, ax = plt.subplots(figsize=(6,6))\n",
        "# Add plot title. Notice how we add set_ for axis\n",
        "ax.set_title(\"Predicted vs True\", fontsize=18)\n",
        "# Scatter plot of predicted vs true\n",
        "ax.scatter(true_values, predicted_values, alpha=.05, color='cornflowerblue', \n",
        "           label='True vs Predicted') \n",
        "# Plot a diagonal line along the axes\n",
        "ax.plot([0, 1], [0, 1], transform=ax.transAxes, color='red', \n",
        "        label='1-to-1 Correlation Line') \n",
        "ax.set_box_aspect(1) # Make our plot square\n",
        "# Add axis labels. Notice how we add set_ for axis\n",
        "ax.set_xlabel('True', fontsize=18) \n",
        "ax.set_ylabel('Predicted', fontsize=18)\n",
        "# You can modify font size in most text objects in matplotlib.\n",
        "ax.legend(fontsize=12)\n",
        "plt.draw()"
      ]
    },
    {
      "cell_type": "markdown",
      "source": [
        "Another way to visualize this sort of data is using the matplotlib hist2d<br>\n",
        "tool. \n",
        "\n",
        "### Activity:<br> \n",
        "**Generate a 2D histogram plot of this data using plt.hist2d().**<br>\n",
        "\n",
        "**Required code:**<br>\n",
        "```python\n",
        "plt.hist2d()\n",
        "plt.title()\n",
        "plt.xlabel()\n",
        "plt.ylabel()\n",
        "plt.colorbar()\n",
        "```"
      ],
      "metadata": {
        "id": "IxMEQ47BD2oB"
      },
      "id": "IxMEQ47BD2oB"
    },
    {
      "cell_type": "code",
      "execution_count": null,
      "id": "12158aec",
      "metadata": {
        "id": "12158aec"
      },
      "outputs": [],
      "source": [
        "#Your code goes here:\n",
        "########################\n",
        "\n",
        "\n",
        "########################"
      ]
    },
    {
      "cell_type": "code",
      "source": [
        "#@title Solution (Try on your own first)\n",
        "\n",
        "plt.hist2d(true_values, predicted_values, bins=30)\n",
        "plt.title('2D Histogram of Pred vs True', fontsize=16)\n",
        "plt.xlabel('True', fontsize=16)\n",
        "plt.ylabel('Pred', fontsize=16)\n",
        "plt.colorbar()\n",
        "plt.gca().figure.set_size_inches(6,6)\n",
        "plt.gca().set_box_aspect(1)\n",
        "plt.show()"
      ],
      "metadata": {
        "colab": {
          "base_uri": "https://localhost:8080/",
          "height": 364
        },
        "id": "Dve7rHi_Flgv",
        "outputId": "151b7f55-dd0f-4d72-9c6f-64b521f52975",
        "cellView": "form"
      },
      "id": "Dve7rHi_Flgv",
      "execution_count": null,
      "outputs": [
        {
          "output_type": "display_data",
          "data": {
            "text/plain": [
              "<Figure size 432x432 with 2 Axes>"
            ],
            "image/png": "[encoded data removed]"
          },
          "metadata": {
            "needs_background": "light"
          }
        }
      ]
    },
    {
      "cell_type": "markdown",
      "source": [
        "Another useful quantity when relating correlated quantities is **residuals**<br>\n",
        "*(true-predicted)*. Notice how in this case, it just equals the gaussian noise we<br>\n",
        "added. It's also equal to the distance between the points and the line in the<br>\n",
        "correlation scatter plot from above."
      ],
      "metadata": {
        "id": "nanFZ_D0Q6_3"
      },
      "id": "nanFZ_D0Q6_3"
    },
    {
      "cell_type": "code",
      "execution_count": null,
      "id": "725b5841",
      "metadata": {
        "id": "725b5841",
        "outputId": "128d9245-3d4f-4032-c34e-23c995e987ff",
        "colab": {
          "base_uri": "https://localhost:8080/",
          "height": 295
        }
      },
      "outputs": [
        {
          "output_type": "display_data",
          "data": {
            "text/plain": [
              "<Figure size 432x288 with 1 Axes>"
            ],
            "image/png": "[encoded data removed]"
          },
          "metadata": {
            "needs_background": "light"
          }
        }
      ],
      "source": [
        "residuals = true_values - predicted_values # Residuals are calculated as true-pred\n",
        "plt.title('Histogram of Residuals') # Plot Title\n",
        "plt.hist(residuals, histtype='step', label='Gaussian Noise', color='b', bins=30)\n",
        "plt.ylabel('Counts') # Y-axis label\n",
        "plt.xlabel('Value') # X-axis label\n",
        "plt.legend() # Add a legend to a random \"good\" point on the plot\n",
        "plt.show() # Show our plot and terminate dealing with that plot"
      ]
    },
    {
      "cell_type": "markdown",
      "source": [
        "We can further analyze the residuals to determine the precision and accuracy or<br>\n",
        "predicted values when compared to our true values. A good metric for **accuracy**<br>\n",
        "in data which is generally correlated is the **mean of the residuals**. A good<br>\n",
        "metric for the **precision** (spread) is the **standard deviation of the residuals**."
      ],
      "metadata": {
        "id": "g41u1-o-RCWI"
      },
      "id": "g41u1-o-RCWI"
    },
    {
      "cell_type": "code",
      "execution_count": null,
      "id": "fb77611d",
      "metadata": {
        "id": "fb77611d",
        "outputId": "3de34bdc-a416-42c5-893e-47dec21508a2",
        "colab": {
          "base_uri": "https://localhost:8080/",
          "height": 330
        }
      },
      "outputs": [
        {
          "output_type": "stream",
          "name": "stdout",
          "text": [
            "Residuals mean:  -0.4956923448572554\n",
            "Residuals standard deviation:  0.9799400284507762\n"
          ]
        },
        {
          "output_type": "display_data",
          "data": {
            "text/plain": [
              "<Figure size 432x288 with 1 Axes>"
            ],
            "image/png": "[encoded data removed]"
          },
          "metadata": {
            "needs_background": "light"
          }
        }
      ],
      "source": [
        "# Residuals are calculated as true-pred\n",
        "residuals = true_values - predicted_values\n",
        "# Mean tells us our level of inaccuracy/bias (want this close to 0)\n",
        "mean = np.mean(residuals)\n",
        "# Standard deviation tells us our level of imprecision (want this to be small)\n",
        "std = np.std(residuals)\n",
        "print('Residuals mean: ', mean)\n",
        "print('Residuals standard deviation: ', std)\n",
        "fig, ax = plt.subplots()\n",
        "ax.set_title('Residuals Plot') # Plot Title\n",
        "ax.hist(residuals, histtype='step', label='Gaussian Noise', color='b', bins=30)\n",
        "# vlines adds vertical lines at provided x-coordinates. We can set the height of \n",
        "# this to 0-1 then transform it using axis.get_xaxis_transform() to make it \n",
        "# cover the vertical extent of the plot.\n",
        "ax.vlines(np.mean(residuals), ymin=0, ymax=1, \n",
        "          transform=ax.get_xaxis_transform(), color='r', label='Mean')\n",
        "# axvspan adds a rectangle across the extent provided. Alpha less than 1 makes \n",
        "# it transparent\n",
        "ax.axvspan(mean - std, mean + std, facecolor='g', alpha=.2, \n",
        "           label='Standard Deviation')\n",
        "ax.set_ylabel('Counts') # Y-axis label\n",
        "ax.set_xlabel('Value') # X-axis label\n",
        "ax.legend() # Add a legend to a random \"good\" point on the plot\n",
        "plt.show() # Show our plot and terminate dealing with that plot"
      ]
    },
    {
      "cell_type": "markdown",
      "source": [
        "Now let's consider some metrics for analyzing classifier models. Let's start by<br>\n",
        "generating some fake **binary classification data**. That is to say, we have **data**<br>\n",
        "**which is labeled as either a 0 or 1**. And instead of adding random noise, we'll<br>\n",
        "make our predictions look like they sometime mislabel the true data by<br>\n",
        "occasionally swapping 0s and 1s."
      ],
      "metadata": {
        "id": "6ey54JaWRhLZ"
      },
      "id": "6ey54JaWRhLZ"
    },
    {
      "cell_type": "code",
      "execution_count": null,
      "id": "3ab7a321",
      "metadata": {
        "id": "3ab7a321",
        "outputId": "d30df3d5-e278-426e-b693-16787cec4c7d",
        "colab": {
          "base_uri": "https://localhost:8080/"
        }
      },
      "outputs": [
        {
          "output_type": "stream",
          "name": "stdout",
          "text": [
            "[0. 1. 0. ... 1. 0. 1.]\n",
            "[1. 1. 0. ... 1. 0. 1.]\n"
          ]
        }
      ],
      "source": [
        "label_binary = np.zeros(10000) # Create a list of 0's\n",
        "pred_binary = np.copy(label_binary) # Copy that list\n",
        "for i in range(len(label_binary)):\n",
        "    label_binary[i] += i % 2 # Adding 1 to every other term in the data set\n",
        "for i in range(len(pred_binary)):\n",
        "    pred_binary[i] += (i % 2)\n",
        "    if i % 21 == 0: # Adding some false positives and false negatives\n",
        "        pred_binary[i] -= (i % 2)\n",
        "    if i % 54 == 0:\n",
        "        pred_binary[i] += 1\n",
        "\n",
        "print(label_binary)\n",
        "print(pred_binary)"
      ]
    },
    {
      "cell_type": "markdown",
      "source": [
        "Let's consider this data to represent 1=positive and 0=negative data labels. If<br>\n",
        "our label is 1 and our prediction is 1 then we've correctly identified a **true**<br>\n",
        "**positive** label. If our prediction is 0 and we label it a 1. We have a **false<br>\n",
        "positive**.<br> \n",
        "Likewise:<br>\n",
        "Label 1, prediction 0: **false negative**<br>\n",
        "Label 0, prediction 0: **true negative**<br>\n",
        "The simplest metric you might construct is how often you are correct. Compare<br>\n",
        "the total number of predictions where your prediction matches the label and<br>\n",
        "divide by the total number of labels/predictions."
      ],
      "metadata": {
        "id": "g4Lm9CrUSXxi"
      },
      "id": "g4Lm9CrUSXxi"
    },
    {
      "cell_type": "code",
      "execution_count": null,
      "id": "98e2e90e",
      "metadata": {
        "id": "98e2e90e",
        "outputId": "f266efaa-13a4-443a-8980-78d27baa8398",
        "colab": {
          "base_uri": "https://localhost:8080/"
        }
      },
      "outputs": [
        {
          "output_type": "stream",
          "name": "stdout",
          "text": [
            "Percentage correct prediction:  0.9576\n"
          ]
        }
      ],
      "source": [
        "print('Percentage correct prediction: ', \n",
        "      len(pred_binary[pred_binary == label_binary])/len(pred_binary))"
      ]
    },
    {
      "cell_type": "markdown",
      "source": [
        "A more sophisticated way to analyze binary data is to analyze a **confusion**<br>\n",
        "**matrix**. This lets you know not-only when your predictions are wrong or right.<br>\n",
        "But what aspect of prediction your model struggles with. For this, we'll import<br>\n",
        "a confusion matrix tool from **sci-kit learn**."
      ],
      "metadata": {
        "id": "VsK6YfPpS9pt"
      },
      "id": "VsK6YfPpS9pt"
    },
    {
      "cell_type": "code",
      "source": [
        "from sklearn.metrics import confusion_matrix"
      ],
      "metadata": {
        "id": "YVdmU-ZMTEmv"
      },
      "id": "YVdmU-ZMTEmv",
      "execution_count": null,
      "outputs": []
    },
    {
      "cell_type": "markdown",
      "source": [
        "confusion_matrix makes an nxn grid where n is the number of unique labels in <br>\n",
        "y_true and your values in the nxn grid are the raw counts of times where your <br>\n",
        "predicted values match your true values. Using normalize='true' converts this <br> \n",
        "to a percentage value in decimal form.\n"
      ],
      "metadata": {
        "id": "rHSFYGRgg_Ew"
      },
      "id": "rHSFYGRgg_Ew"
    },
    {
      "cell_type": "code",
      "execution_count": null,
      "id": "4518778f",
      "metadata": {
        "id": "4518778f",
        "outputId": "0506b3b8-861c-402b-a848-473715392d4d",
        "colab": {
          "base_uri": "https://localhost:8080/",
          "height": 493
        }
      },
      "outputs": [
        {
          "output_type": "stream",
          "name": "stderr",
          "text": [
            "<ipython-input-14-ba18d09c853e>:30: UserWarning: FixedFormatter should only be used together with FixedLocator\n",
            "  ax.set_xticklabels([''] + axis_labels, fontsize=14)\n",
            "<ipython-input-14-ba18d09c853e>:31: UserWarning: FixedFormatter should only be used together with FixedLocator\n",
            "  ax.set_yticklabels([''] + axis_labels, fontsize=14)\n"
          ]
        },
        {
          "output_type": "display_data",
          "data": {
            "text/plain": [
              "<Figure size 432x432 with 1 Axes>"
            ],
            "image/png": "[encoded data removed]"
          },
          "metadata": {
            "needs_background": "light"
          }
        }
      ],
      "source": [
        "conf_matrix = confusion_matrix(y_true=label_binary, y_pred=pred_binary, \n",
        "                               normalize='true')\n",
        "# We can optionally add our own matrix square labels\n",
        "matrix_labels = [['True Negative', 'False Positive'], ['False Negative', \n",
        "                                                       'True Positive']]\n",
        "fig, ax = plt.subplots(figsize=(6, 6)) # figure, axis formatting\n",
        "# matshow is a special plot type for matrices.\n",
        "ax.matshow(conf_matrix, cmap=plt.cm.Blues, alpha=.4)\n",
        "for i in range(conf_matrix.shape[0]):\n",
        "    for j in range(conf_matrix.shape[1]):\n",
        "        # %s = add a string placeholder\n",
        "        # \\n = add a line break\n",
        "        # %.2f = add a 2 decimal place floating point value placeholder\n",
        "        # %% = add a percentage sign\n",
        "        # everything after the free % will be inserted into the placeholders\n",
        "        ax.text(x=j, y=i, s=\"%s\\n%.2f%%\"  % (matrix_labels[i][j], \n",
        "                                             (conf_matrix[i,j] * 100 / \n",
        "                                              conf_matrix.shape[1])), \n",
        "                va='center', ha='center', size=18)\n",
        "\n",
        "ax.set_xlabel('Predictions', fontsize=18)\n",
        "ax.set_ylabel('Labels', fontsize=18)\n",
        "# We can optionally add our own axis labels. Defaults to label values.\n",
        "axis_labels = [str(val) for val in range(2)] \n",
        "# Formatting trick for adding custom labels.\n",
        "ax.set_xticklabels([''] + axis_labels, fontsize=14) \n",
        "ax.set_yticklabels([''] + axis_labels, fontsize=14)\n",
        "ax.set_title('Confusion Matrix', fontsize=18) # Add a title.\n",
        "plt.show() # Show plot"
      ]
    },
    {
      "cell_type": "markdown",
      "source": [
        "### Activity\n",
        "**Try to create a confusion matrix for a data set with 3 unique labels: <br>\n",
        "0, 1, 2.**"
      ],
      "metadata": {
        "id": "wIZJktJZJTyC"
      },
      "id": "wIZJktJZJTyC"
    },
    {
      "cell_type": "code",
      "execution_count": null,
      "id": "131a2318",
      "metadata": {
        "id": "131a2318",
        "outputId": "e4a272c2-4425-4e2d-9cf8-6fa3984715d9",
        "colab": {
          "base_uri": "https://localhost:8080/"
        }
      },
      "outputs": [
        {
          "output_type": "stream",
          "name": "stdout",
          "text": [
            "0.0\n"
          ]
        }
      ],
      "source": [
        "label_ternary = np.zeros(10000) # Create a list of 0's\n",
        "pred_ternary = np.copy(label_ternary) # Copy that list\n",
        "for i in range(len(label_ternary)):\n",
        "    label_ternary[i] += i % 3 # Turn list into alternating 0,1,2\n",
        "for i in range(len(pred_ternary)):\n",
        "    pred_ternary[i] += (i % 3)\n",
        "    if i % 21 == 2:\n",
        "        pred_ternary[i] -= 2\n",
        "    if i % 42 == 2:\n",
        "        pred_ternary[i] +=1 \n",
        "    if i % 27 == 1:\n",
        "        pred_ternary[i] -= 1\n",
        "    if i % 33 == 1:\n",
        "        pred_ternary[i] += 1\n",
        "    if i % 39 == 0:\n",
        "        pred_ternary[i] += 1\n",
        "    if i % 48 == 0:\n",
        "        pred_ternary[i] += 1\n",
        "        \n",
        "print(np.min(pred_ternary))"
      ]
    },
    {
      "cell_type": "markdown",
      "source": [
        "**Required code:<br>**\n",
        "```python\n",
        "conf_matrix = confusion_matrix()\n",
        "fig, ax = plt.subplots()\n",
        "ax.matshow()\n",
        "for i in range(conf_matrix.shape[0]):\n",
        "    for j in range(conf_matrix.shape[1]):\n",
        "         ax.text()\n",
        "```"
      ],
      "metadata": {
        "id": "GxEj3JsqIy79"
      },
      "id": "GxEj3JsqIy79"
    },
    {
      "cell_type": "code",
      "source": [
        "#Your code goes here:\n",
        "########################\n",
        "\n",
        "\n",
        "########################"
      ],
      "metadata": {
        "id": "pIRVua_TKPFR"
      },
      "id": "pIRVua_TKPFR",
      "execution_count": null,
      "outputs": []
    },
    {
      "cell_type": "code",
      "source": [
        "#@title Solution (Try on your own first)\n",
        "\n",
        "conf_matrix = confusion_matrix(y_true=label_ternary, y_pred=pred_ternary, normalize='true')\n",
        "# We can optionally add our own matrix square labels\n",
        "fig, ax = plt.subplots(figsize=(6, 6)) # figure, axis formatting\n",
        "# matshow is a special plot type for matrices.\n",
        "ax.matshow(conf_matrix, cmap=plt.cm.Blues, alpha=.4)\n",
        "for i in range(conf_matrix.shape[0]):\n",
        "    for j in range(conf_matrix.shape[1]):\n",
        "        # %s = add a string placeholder\n",
        "        # \\n = add a line break\n",
        "        # %.2f = add a 2 decimal place floating point value placeholder\n",
        "        # %% = add a percentage sign\n",
        "        # everything after the free % will be inserted into the placeholders in \n",
        "        # order\n",
        "        ax.text(x=j, y=i, s=\"%.2f%%\"  % (conf_matrix[i,j] * 100 / \n",
        "                                         conf_matrix.shape[1]), \n",
        "                va='center', ha='center', size=18)\n",
        "\n",
        "ax.set_xlabel('Predictions', fontsize=18)\n",
        "ax.set_ylabel('Labels', fontsize=18)\n",
        "# We can optionally add our own axis labels. Defaults to label values.\n",
        "axis_labels = [str(val) for val in range(3)] \n",
        "# Formatting trick for adding custom labels.\n",
        "ax.set_xticklabels([''] + axis_labels, fontsize=14) \n",
        "ax.set_yticklabels([''] + axis_labels, fontsize=14)\n",
        "ax.set_title('Confusion Matrix', fontsize=18) # Add a title.\n",
        "plt.show()"
      ],
      "metadata": {
        "colab": {
          "base_uri": "https://localhost:8080/",
          "height": 493
        },
        "id": "LbcKCUtETytn",
        "outputId": "e83d8e27-ef27-4079-e246-7851ca8e9436",
        "cellView": "form"
      },
      "id": "LbcKCUtETytn",
      "execution_count": null,
      "outputs": [
        {
          "output_type": "stream",
          "name": "stderr",
          "text": [
            "<ipython-input-18-dad7fb820f1e>:25: UserWarning: FixedFormatter should only be used together with FixedLocator\n",
            "  ax.set_xticklabels([''] + axis_labels, fontsize=14)\n",
            "<ipython-input-18-dad7fb820f1e>:26: UserWarning: FixedFormatter should only be used together with FixedLocator\n",
            "  ax.set_yticklabels([''] + axis_labels, fontsize=14)\n"
          ]
        },
        {
          "output_type": "display_data",
          "data": {
            "text/plain": [
              "<Figure size 432x432 with 1 Axes>"
            ],
            "image/png": "[encoded data removed]"
          },
          "metadata": {
            "needs_background": "light"
          }
        }
      ]
    }
  ],
  "metadata": {
    "kernelspec": {
      "display_name": "Python 3",
      "name": "python3"
    },
    "language_info": {
      "name": "python"
    },
    "colab": {
      "provenance": []
    },
    "gpuClass": "standard"
  },
  "nbformat": 4,
  "nbformat_minor": 5
}
